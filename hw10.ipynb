{
 "cells": [
  {
   "cell_type": "markdown",
   "metadata": {},
   "source": [
    "\n",
    "# CIS024C - Spring 2018 - Monday 5:30-9:25pm \n",
    "\n",
    "## Homework 10\n",
    "\n",
    "Homework 8 covers exercises involving  external libraries, creating user defined libraries and working with command line arguments.\n",
    "\n",
    "The below sites have some interesting and useful information on these topics\n",
    "\n",
    "https://docs.python.org/2/library/index.html\n",
    "http://www.pythonforbeginners.com/argv/more-fun-with-sys-argv\n",
    "https://docs.python.org/2/library/argparse.html\n",
    "\n",
    "You will need to download this notebook and use this as a starting point for your homework. You will just need to fill in the content of each code-block (cell) and execute. Once you have completed all the exercises, you will need to save and upload this to your github repository under a folder called hw7.\n",
    "\n",
    "Note also the exercises build on top of one another so you might be able to do the next exercise if you have not completed the previous exercise.\n",
    "\n",
    "Post any questions you have on our Slack at **cis-024c1.slack.com**\n",
    "\n",
    "Slides - https://docs.google.com/presentation/d/15v1bLJ5ek5Z8mY3bZDOj67o4H3Ojhxuk-8ICI_FY6O4\n",
    "\n",
    "**Please refer back to hw1 and slack for instructions on how to setup your computer for developing using Python.**"
   ]
  },
  {
   "cell_type": "markdown",
   "metadata": {},
   "source": [
    "### Helpful Jupyter Commands\n",
    "\n",
    "Below are some useful commands to know when using Jupyter\n",
    "\n",
    "1. You can add a new cell by clicking on the \"+\" icon on top.\n",
    "2. You can delete a cell by selecting that cell and clicking on the \"scissors\" icon on top.\n",
    "3. You can execute a cell by either pressing shift+enter or selecting the \"play\" button on top.\n",
    "4. You can create a new file in Jupyter via the File menu->New Notebook option. Make sure to select Python 2 when creating your notebook.\n",
    "5. Also, for your code blocks make sure that Code is selected instead of another option like Markdown.\n",
    "6. Use the Enter key to go to the next line in a cell to enter the next statement.\n",
    "7. You can clear results by clicking on the Cell menu item and selecting Current Output->Clear or All Output->Clear depending on whether you are trying to just clear the output for one cell or for all cells.\n",
    "8. In case your program has crashed for some reason (infinite loop, for example), you can restart your Python session by select Kernel in the menu and selecting Restart.\n"
   ]
  },
  {
   "cell_type": "markdown",
   "metadata": {},
   "source": [
    "#### Check Python Version"
   ]
  },
  {
   "cell_type": "code",
   "execution_count": 1,
   "metadata": {},
   "outputs": [
    {
     "name": "stderr",
     "output_type": "stream",
     "text": [
      "Python 3.6.5 :: Anaconda, Inc.\n"
     ]
    }
   ],
   "source": [
    "!python --version"
   ]
  },
  {
   "cell_type": "markdown",
   "metadata": {},
   "source": [
    "**Exercise 1 - Testing your knowledge of Command Line arguments **\n",
    "\n",
    "Answer the below questions\n",
    "\n",
    "1. Describe the purpose of the sys.argv variable\n",
    "2. What are the key differences between using the command prompt console and the jupyter console?"
   ]
  },
  {
   "cell_type": "markdown",
   "metadata": {},
   "source": [
    "1. They write command-line interfaces.\n",
    "2. The command prompt is used to see how it works while the jupyter console is used for running programs."
   ]
  },
  {
   "cell_type": "markdown",
   "metadata": {},
   "source": [
    "#### Exercise 2 - Command Line programs with multiple modules using sys.argv\n",
    "\n",
    "Write a Python program to add two numbers. \n",
    "\n",
    "Your Python program must have a function called **add** that is placed in a separate module called **helper.py**. \n",
    "\n",
    "Your main program, which is also a standalone Python program **main.py** must import **helper.py** and use this module to add the two numbers. \n",
    "\n",
    "The numbers to be added must be passed via the command line. You could use either argv or argparse for accepting command line arguments.\n",
    "\n",
    "Here is an example of how your program would be invoked assuming the numbers to be added are 3 and 2\n",
    "\n",
    "**python main.py 3 2**\n"
   ]
  },
  {
   "cell_type": "code",
   "execution_count": 2,
   "metadata": {},
   "outputs": [
    {
     "name": "stdout",
     "output_type": "stream",
     "text": [
      "Overwriting helper.py\n"
     ]
    }
   ],
   "source": [
    "%%writefile helper.py\n",
    "\n",
    "import sys\n",
    "\n",
    "print(sys.argv)\n",
    "\n",
    "number1 = int(sys.argv[1])\n",
    "number2 = int(sys.argv[2])\n",
    "\n",
    "result = number1 +number2\n",
    "\n",
    "print(\"Result: \", result)"
   ]
  },
  {
   "cell_type": "code",
   "execution_count": 3,
   "metadata": {},
   "outputs": [
    {
     "name": "stdout",
     "output_type": "stream",
     "text": [
      "['helper.py', '2', '3']\n",
      "Result:  5\n"
     ]
    }
   ],
   "source": [
    "!python helper.py 2 3"
   ]
  },
  {
   "cell_type": "markdown",
   "metadata": {},
   "source": [
    "#### Exercise 3 - Command Line programs using Argparser\n",
    "\n",
    "Repeat Exercise 2 using the argparser module\n"
   ]
  },
  {
   "cell_type": "code",
   "execution_count": 4,
   "metadata": {},
   "outputs": [
    {
     "name": "stdout",
     "output_type": "stream",
     "text": [
      "Overwriting calculator.py\n"
     ]
    }
   ],
   "source": [
    "%%writefile calculator.py\n",
    "\n",
    "import argparse\n",
    "\n",
    "parser = argparse.ArgumentParser()\n",
    "parser.add_argument(\"--cmd\", help = \"Enter command add, subtract, multiply, divide\")\n",
    "parser.add_argument(\"--num1\", type = int, default=0, help = \"enter 1st number\")\n",
    "parser.add_argument(\"--num2\", type = int, default=0,help = \"Enter 2nd number\")\n",
    "parser.add_argument(\"--verbose\", action='store_true', help = \"verbose output\")\n",
    "\n",
    "args = parser.parse_args()\n",
    "\n",
    "\n",
    "if args.verbose == True:\n",
    "    print(args.cmd, args.num1, args.num2)\n",
    "if args.cmd == \"add\":\n",
    "    result = args.num1 + args.num2\n",
    "elif args.cmd == \"multiply\":\n",
    "    result = args.num1 * args.num2\n",
    "elif args.cmd == \"subtract\":\n",
    "    result = args.num1 - args.num2\n",
    "elif args.cmd == \"divide\":\n",
    "    result = args.num1/args.num2\n",
    "else:\n",
    "    result = None\n",
    "    print(\"Invalid command entered\")\n",
    "print(result)"
   ]
  },
  {
   "cell_type": "code",
   "execution_count": 5,
   "metadata": {},
   "outputs": [
    {
     "name": "stdout",
     "output_type": "stream",
     "text": [
      "8\n"
     ]
    }
   ],
   "source": [
    "!python  calculator.py --cmd=\"add\" --num1 1 --num2 7 "
   ]
  },
  {
   "cell_type": "markdown",
   "metadata": {},
   "source": [
    "#### Exercise 4 - Specifying default arguments for the argparser\n",
    "\n",
    "Write a python program display_text.py that prints text given by the user with the --text option. If no text is given, the program should default \"No text provided\". Set the help text for --text to be \"enter some text here in quotes\"\n",
    "\n",
    "The program should execute like below\n",
    "\n",
    "python display_text.py --text=\"Jack and Jill\"\n",
    "\n",
    "Jack and Jill"
   ]
  },
  {
   "cell_type": "code",
   "execution_count": 10,
   "metadata": {},
   "outputs": [
    {
     "name": "stdout",
     "output_type": "stream",
     "text": [
      "Overwriting display_text.py\n"
     ]
    }
   ],
   "source": [
    "%%writefile display_text.py\n",
    "\n",
    "import argparse\n",
    "\n",
    "parser = argparse.ArgumentParser()\n",
    "\n",
    "parser.add_argument(\"--text\", help = \"type some text\")\n",
    "\n",
    "args = parser.parse_args()\n",
    "\n",
    "print(args.text)"
   ]
  },
  {
   "cell_type": "code",
   "execution_count": 11,
   "metadata": {},
   "outputs": [
    {
     "name": "stdout",
     "output_type": "stream",
     "text": [
      "Jack and Jill\n"
     ]
    }
   ],
   "source": [
    "!python  display_text.py --text \"Jack and Jill\""
   ]
  },
  {
   "cell_type": "markdown",
   "metadata": {},
   "source": [
    "#### Exercise 5 - Specifying boolean arguments via argparser\n",
    "\n",
    "Repeat Exercise 5, this time add a boolean argument called \"verbose\". If the user sets the verbose option, then display the value of args.text and args.verbose.\n",
    "\n",
    "For example,\n",
    "\n",
    "python display_text.py --text=\"Jack and Jill\"\n",
    "\n",
    "Jack and Jill\n",
    "\n",
    "python display_text.py --text=\"Jack and Jill\" --verbose\n",
    "\n",
    "args.text = \"Jack and Jill\"\n",
    "args.verbose = True\n",
    "\n",
    "Jack and Jill"
   ]
  },
  {
   "cell_type": "code",
   "execution_count": 13,
   "metadata": {},
   "outputs": [
    {
     "name": "stdout",
     "output_type": "stream",
     "text": [
      "Writing display.py\n"
     ]
    }
   ],
   "source": [
    "%%writefile display.py\n",
    "\n",
    "import argparse\n",
    "\n",
    "parser = argparse.ArgumentParser()\n",
    "parser.add_argument(\"--display\", help = \"Enter text\")\n",
    "parser.add_argument(\"--verbose\", action='store_true', help = \"verbose output\")\n",
    "\n",
    "args = parser.parse_args()\n",
    "\n",
    "print(\"Verbose mode:\", args.verbose)\n",
    "\n",
    "if args.verbose == True:\n",
    "    print(args.cmd, args.num1, args.num2)\n",
    "print(args.display)"
   ]
  },
  {
   "cell_type": "code",
   "execution_count": 16,
   "metadata": {},
   "outputs": [
    {
     "name": "stdout",
     "output_type": "stream",
     "text": [
      "Verbose mode: False\n",
      "Joe and Jim\n"
     ]
    }
   ],
   "source": [
    "!python display.py --display \"Joe and Jim\" "
   ]
  },
  {
   "cell_type": "markdown",
   "metadata": {},
   "source": [
    "# Optional Questions"
   ]
  },
  {
   "cell_type": "markdown",
   "metadata": {
    "collapsed": true
   },
   "source": [
    "#### Exercise 6 - Python program with multiple modules to sort a list of numbers\n",
    "\n",
    "Write a Python program to sort a list of numbers in ascending order. Your Python program must have a function called **sortNumbers** that is placed in a separate module called **sorthelper.py**. This function **sortNumbers** accepts a **list** of numbers. Your main program, which is also a standalone Python program **main.py** must import **sorthelper.py** and use this module to sort the numbers. \n",
    "\n",
    "The numbers to be sorted must be passed via the command line using argparse.\n",
    "\n",
    "Here is an example of how your program would be invoked assuming the numbers to be sorted are 5 4 3 and 8\n",
    "\n",
    "**python main.py 5 4 3 8**\n",
    "\n",
    "Hint: Use https://docs.python.org/3/library/argparse.html to figure out how to accept a list of numbers"
   ]
  },
  {
   "cell_type": "code",
   "execution_count": 9,
   "metadata": {},
   "outputs": [],
   "source": [
    "### YOUR CODE GOES BELOW\n",
    "\n",
    "\n",
    "### END CODE"
   ]
  }
 ],
 "metadata": {
  "kernelspec": {
   "display_name": "Python 3",
   "language": "python",
   "name": "python3"
  },
  "language_info": {
   "codemirror_mode": {
    "name": "ipython",
    "version": 3
   },
   "file_extension": ".py",
   "mimetype": "text/x-python",
   "name": "python",
   "nbconvert_exporter": "python",
   "pygments_lexer": "ipython3",
   "version": "3.6.5"
  }
 },
 "nbformat": 4,
 "nbformat_minor": 2
}
